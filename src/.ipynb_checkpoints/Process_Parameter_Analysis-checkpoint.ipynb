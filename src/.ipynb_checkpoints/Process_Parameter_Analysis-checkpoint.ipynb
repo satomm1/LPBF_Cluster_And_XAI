{
 "cells": [
  {
   "cell_type": "code",
   "execution_count": 1,
   "id": "9c0e3ec3",
   "metadata": {},
   "outputs": [],
   "source": [
    "import numpy as np\n",
    "import pandas as pd"
   ]
  },
  {
   "cell_type": "code",
   "execution_count": 9,
   "id": "5e582f13",
   "metadata": {},
   "outputs": [],
   "source": [
    "DATA_DIR = '../../../In-situ Meas Data/Build Command Data/XYPT Commands/' # Directory of XYPT files\n",
    "\n",
    "dt = 1E-5 # 10 microseconds"
   ]
  },
  {
   "cell_type": "code",
   "execution_count": 7,
   "id": "eb28d75f",
   "metadata": {},
   "outputs": [],
   "source": [
    "data = pd.read_csv(DATA_DIR + 'T500_3D_Scan_Strategies_fused_layer0002.csv', header=None, names=['X', 'Y', 'P', 'T', 'deprecated'])"
   ]
  },
  {
   "cell_type": "code",
   "execution_count": 10,
   "id": "03661e1a",
   "metadata": {},
   "outputs": [
    {
     "data": {
      "text/plain": [
       "1e-05"
      ]
     },
     "execution_count": 10,
     "metadata": {},
     "output_type": "execute_result"
    }
   ],
   "source": [
    "trigger_indx = np.where(np.array(data['T']))[0]"
   ]
  },
  {
   "cell_type": "code",
   "execution_count": 22,
   "id": "d378e485",
   "metadata": {},
   "outputs": [],
   "source": [
    "# Speed\n"
   ]
  },
  {
   "cell_type": "code",
   "execution_count": 28,
   "id": "4c29bfb5",
   "metadata": {},
   "outputs": [],
   "source": [
    "# Direction? \n"
   ]
  },
  {
   "cell_type": "code",
   "execution_count": 23,
   "id": "6ff69207",
   "metadata": {},
   "outputs": [],
   "source": [
    "# Acceleration\n"
   ]
  },
  {
   "cell_type": "code",
   "execution_count": 24,
   "id": "8e5b424c",
   "metadata": {},
   "outputs": [],
   "source": [
    "# Energy Density\n"
   ]
  },
  {
   "cell_type": "code",
   "execution_count": 25,
   "id": "d2a11f1f",
   "metadata": {},
   "outputs": [],
   "source": [
    "# Heating/Cooling\n"
   ]
  },
  {
   "cell_type": "code",
   "execution_count": 26,
   "id": "0f5d731f",
   "metadata": {},
   "outputs": [],
   "source": [
    "# Turning\n"
   ]
  },
  {
   "cell_type": "code",
   "execution_count": 27,
   "id": "8b41f68f",
   "metadata": {},
   "outputs": [],
   "source": [
    "# Residual Heat\n"
   ]
  }
 ],
 "metadata": {
  "kernelspec": {
   "display_name": "meltpool_env",
   "language": "python",
   "name": "meltpool_env"
  },
  "language_info": {
   "codemirror_mode": {
    "name": "ipython",
    "version": 3
   },
   "file_extension": ".py",
   "mimetype": "text/x-python",
   "name": "python",
   "nbconvert_exporter": "python",
   "pygments_lexer": "ipython3",
   "version": "3.11.4"
  }
 },
 "nbformat": 4,
 "nbformat_minor": 5
}
