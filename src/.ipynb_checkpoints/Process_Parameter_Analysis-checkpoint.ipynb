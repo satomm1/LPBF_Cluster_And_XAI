{
 "cells": [
  {
   "cell_type": "code",
   "execution_count": 70,
   "id": "9c0e3ec3",
   "metadata": {},
   "outputs": [],
   "source": [
    "import numpy as np\n",
    "import pandas as pd\n",
    "import matplotlib.pyplot as plt\n",
    "from tqdm import tqdm"
   ]
  },
  {
   "cell_type": "code",
   "execution_count": 3,
   "id": "5e582f13",
   "metadata": {},
   "outputs": [],
   "source": [
    "DATA_DIR = '../../../In-situ Meas Data/Build Command Data/XYPT Commands/' # Directory of XYPT files\n",
    "\n",
    "dt = 1E-5 # 10 microseconds"
   ]
  },
  {
   "cell_type": "code",
   "execution_count": 41,
   "id": "eb28d75f",
   "metadata": {},
   "outputs": [],
   "source": [
    "data = pd.read_csv(DATA_DIR + 'T500_3D_Scan_Strategies_fused_layer0002.csv', header=None, names=['X', 'Y', 'P', 'T', 'deprecated'])"
   ]
  },
  {
   "cell_type": "code",
   "execution_count": 42,
   "id": "03661e1a",
   "metadata": {},
   "outputs": [],
   "source": [
    "trigger_indx = np.where(np.array(data['T']))[0]\n",
    "X = np.array(data['X'])\n",
    "Y = np.array(data['Y'])\n",
    "P = np.array(data['P'])"
   ]
  },
  {
   "cell_type": "code",
   "execution_count": 6,
   "id": "d378e485",
   "metadata": {},
   "outputs": [],
   "source": [
    "# Speed\n",
    "x_vel = np.zeros(X.shape)\n",
    "x_vel[1:-1] = (X[2:]-X[:-2]) / 2 / dt\n",
    "\n",
    "y_vel = np.zeros(X.shape)\n",
    "y_vel[1:-1] = (Y[2:]-Y[:-2]) / 2 / dt\n",
    "\n",
    "speed = np.sqrt(np.square(x_vel) + np.square(y_vel))"
   ]
  },
  {
   "cell_type": "code",
   "execution_count": 7,
   "id": "4c29bfb5",
   "metadata": {},
   "outputs": [],
   "source": [
    "# Direction\n",
    "vel_dir_x = x_vel / (speed + 1e-8)\n",
    "vel_dir_y = y_vel / (speed + 1e-8)"
   ]
  },
  {
   "cell_type": "code",
   "execution_count": 8,
   "id": "6ff69207",
   "metadata": {},
   "outputs": [],
   "source": [
    "# Acceleration\n",
    "x_accel = np.zeros(X.shape)\n",
    "x_accel[1:-1] = (x_vel[2:]-x_vel[:-2]) / 2 / dt\n",
    "\n",
    "y_accel = np.zeros(Y.shape)\n",
    "y_accel[1:-1] = (y_vel[2:]-y_vel[:-2]) / 2 / dt\n",
    "\n",
    "accel = np.sqrt(np.square(x_accel) + np.square(y_accel))\n",
    "accel[np.where(speed[1:] < speed[:-1])[0]+1] = accel[np.where(speed[1:] < speed[:-1])[0]+1]*-1"
   ]
  },
  {
   "cell_type": "code",
   "execution_count": 9,
   "id": "8e5b424c",
   "metadata": {},
   "outputs": [],
   "source": [
    "# Energy Density\n",
    "en_den = P / (speed + 1e-8)"
   ]
  },
  {
   "cell_type": "code",
   "execution_count": 10,
   "id": "d2a11f1f",
   "metadata": {},
   "outputs": [],
   "source": [
    "# Heating/Cooling\n",
    "heating = np.zeros(X.shape)\n",
    "heating[np.where(P[1:]>P[:-1])[0]+1] = 1\n",
    "heating[np.where(P[1:]<P[:-1])[0]+1] = -1"
   ]
  },
  {
   "cell_type": "code",
   "execution_count": 126,
   "id": "0f5d731f",
   "metadata": {},
   "outputs": [
    {
     "data": {
      "text/plain": [
       "array([0, 0, 0, ..., 0, 0, 1])"
      ]
     },
     "execution_count": 126,
     "metadata": {},
     "output_type": "execute_result"
    }
   ],
   "source": [
    "# Turning\n",
    "turn_threshold = 0.01 # Tune me\n",
    "\n",
    "turning = np.zeros(X.shape)\n",
    "turn1 = np.zeros(X.shape)\n",
    "turn2 = np.zeros(X.shape)\n",
    "\n",
    "turn1[1:] = np.abs(vel_dir_x[1:]-vel_dir_x[:-1])\n",
    "turn2[1:] = np.abs(vel_dir_y[1:]-vel_dir_y[:-1])\n",
    "turning = np.any([(turn1 > turn_threshold), (turn2 > turn_threshold)], axis=0)\n",
    "turning = turning.astype('int')"
   ]
  },
  {
   "cell_type": "code",
   "execution_count": 114,
   "id": "8b41f68f",
   "metadata": {},
   "outputs": [
    {
     "name": "stderr",
     "output_type": "stream",
     "text": [
      "100%|██████████████████████████████████████████████████████████████████████████████| 2927/2927 [00:37<00:00, 79.06it/s]\n"
     ]
    }
   ],
   "source": [
    "# Residual Heat\n",
    "R = 10 # parts are 10 mm x 10 mm\n",
    "T = 5\n",
    "max_iters = round(T/dt)\n",
    "\n",
    "residual_heat = np.zeros(X.shape[0])\n",
    "for i in tqdm(trigger_indx):\n",
    "    d_ij = np.sqrt(np.square(X[i]-X[max(0, i-max_iters):i]) + np.square(Y[i]-Y[max(0, i-max_iters):i]))\n",
    "    t_ij = np.linspace((min(max_iters, i))*dt, dt, min(max_iters, i))\n",
    "    p_j = P[max(0, i-max_iters):i]\n",
    "    residual_heat[i] += np.sum(np.square((R-d_ij)/R) * ((T-t_ij)/T) * p_j)"
   ]
  },
  {
   "cell_type": "code",
   "execution_count": 128,
   "id": "fca8d06c",
   "metadata": {},
   "outputs": [],
   "source": [
    "# Merge together, normalize, and save to an excel file\n",
    "P_trig = P[trigger_indx]\n",
    "speed_trig = speed[trigger_indx]\n",
    "x_dir_trig = vel_dir_x[trigger_indx]\n",
    "y_dir_trig = vel_dir_y[trigger_indx]\n",
    "accel_trig = accel[trigger_indx]\n",
    "en_den_trig = en_den[trigger_indx]\n",
    "heating_trig = heating[trigger_indx]\n",
    "turning_trig = turning[trigger_indx]\n",
    "residual_heat_trig = residual_heat[trigger_indx]\n",
    "\n",
    "pp = pd.DataFrame({'P': P_trig, 'speed': speed_trig, 'x_dir': x_dir_trig, 'y_dir': y_dir_trig, 'accel': accel_trig,\n",
    "                  'ed': en_den_trig, 'heating': heating_trig, 'turning': turning_trig, 'res_heat': residual_heat_trig})\n",
    "\n",
    "\n",
    "\n",
    "# pp_normalized = pd.DataFrame()\n"
   ]
  },
  {
   "cell_type": "code",
   "execution_count": null,
   "id": "c3342c49",
   "metadata": {},
   "outputs": [],
   "source": [
    "# Merge with the labels excel files\n",
    "label = pd.read_excel()\n"
   ]
  },
  {
   "cell_type": "markdown",
   "id": "3720ab21",
   "metadata": {},
   "source": [
    "### Now cycle through each layer "
   ]
  },
  {
   "cell_type": "code",
   "execution_count": 135,
   "id": "106e0d34",
   "metadata": {},
   "outputs": [
    {
     "name": "stderr",
     "output_type": "stream",
     "text": [
      "  0%|▎                                                                              | 1/249 [02:10<8:58:56, 130.39s/it]\n"
     ]
    },
    {
     "ename": "KeyboardInterrupt",
     "evalue": "",
     "output_type": "error",
     "traceback": [
      "\u001b[1;31m---------------------------------------------------------------------------\u001b[0m",
      "\u001b[1;31mKeyboardInterrupt\u001b[0m                         Traceback (most recent call last)",
      "Cell \u001b[1;32mIn[135], line 72\u001b[0m\n\u001b[0;32m     70\u001b[0m     t_ij \u001b[38;5;241m=\u001b[39m np\u001b[38;5;241m.\u001b[39mlinspace((\u001b[38;5;28mmin\u001b[39m(max_iters, i))\u001b[38;5;241m*\u001b[39mdt, dt, \u001b[38;5;28mmin\u001b[39m(max_iters, i))\n\u001b[0;32m     71\u001b[0m     p_j \u001b[38;5;241m=\u001b[39m P[\u001b[38;5;28mmax\u001b[39m(\u001b[38;5;241m0\u001b[39m, i\u001b[38;5;241m-\u001b[39mmax_iters):i]\n\u001b[1;32m---> 72\u001b[0m     residual_heat[i] \u001b[38;5;241m+\u001b[39m\u001b[38;5;241m=\u001b[39m \u001b[43mnp\u001b[49m\u001b[38;5;241;43m.\u001b[39;49m\u001b[43msum\u001b[49m\u001b[43m(\u001b[49m\u001b[43mnp\u001b[49m\u001b[38;5;241;43m.\u001b[39;49m\u001b[43msquare\u001b[49m\u001b[43m(\u001b[49m\u001b[43m(\u001b[49m\u001b[43mR\u001b[49m\u001b[38;5;241;43m-\u001b[39;49m\u001b[43md_ij\u001b[49m\u001b[43m)\u001b[49m\u001b[38;5;241;43m/\u001b[39;49m\u001b[43mR\u001b[49m\u001b[43m)\u001b[49m\u001b[43m \u001b[49m\u001b[38;5;241;43m*\u001b[39;49m\u001b[43m \u001b[49m\u001b[43m(\u001b[49m\u001b[43m(\u001b[49m\u001b[43mT\u001b[49m\u001b[38;5;241;43m-\u001b[39;49m\u001b[43mt_ij\u001b[49m\u001b[43m)\u001b[49m\u001b[38;5;241;43m/\u001b[39;49m\u001b[43mT\u001b[49m\u001b[43m)\u001b[49m\u001b[43m \u001b[49m\u001b[38;5;241;43m*\u001b[39;49m\u001b[43m \u001b[49m\u001b[43mp_j\u001b[49m\u001b[43m)\u001b[49m\n\u001b[0;32m     74\u001b[0m P_trig \u001b[38;5;241m=\u001b[39m P[trigger_indx]\n\u001b[0;32m     75\u001b[0m speed_trig \u001b[38;5;241m=\u001b[39m speed[trigger_indx]\n",
      "File \u001b[1;32m<__array_function__ internals>:177\u001b[0m, in \u001b[0;36msum\u001b[1;34m(*args, **kwargs)\u001b[0m\n",
      "\u001b[1;31mKeyboardInterrupt\u001b[0m: "
     ]
    }
   ],
   "source": [
    "pp_dict = dict()\n",
    "\n",
    "for ii in tqdm(range(2,251)):\n",
    "    if ii < 10:\n",
    "        layer_text = 'layer000' + str(ii)\n",
    "    elif ii < 100:\n",
    "        layer_text = 'layer00' + str(ii)\n",
    "    else:\n",
    "        layer_text = 'layer0' + str(ii)\n",
    "        \n",
    "    data = pd.read_csv(DATA_DIR + 'T500_3D_Scan_Strategies_fused_' + layer_text + '.csv', header=None, \n",
    "                       names=['X', 'Y', 'P', 'T', 'deprecated'])\n",
    "    \n",
    "    trigger_indx = np.where(np.array(data['T']))[0]\n",
    "    X = np.array(data['X'])\n",
    "    Y = np.array(data['Y'])\n",
    "    P = np.array(data['P'])\n",
    "    \n",
    "    # Speed\n",
    "    x_vel = np.zeros(X.shape)\n",
    "    x_vel[1:-1] = (X[2:]-X[:-2]) / 2 / dt\n",
    "\n",
    "    y_vel = np.zeros(X.shape)\n",
    "    y_vel[1:-1] = (Y[2:]-Y[:-2]) / 2 / dt\n",
    "\n",
    "    speed = np.sqrt(np.square(x_vel) + np.square(y_vel))\n",
    "    \n",
    "    # Direction\n",
    "    vel_dir_x = x_vel / (speed + 1e-8)\n",
    "    vel_dir_y = y_vel / (speed + 1e-8)\n",
    "    \n",
    "    # Acceleration\n",
    "    x_accel = np.zeros(X.shape)\n",
    "    x_accel[1:-1] = (x_vel[2:]-x_vel[:-2]) / 2 / dt\n",
    "\n",
    "    y_accel = np.zeros(Y.shape)\n",
    "    y_accel[1:-1] = (y_vel[2:]-y_vel[:-2]) / 2 / dt\n",
    "\n",
    "    accel = np.sqrt(np.square(x_accel) + np.square(y_accel))\n",
    "    accel[np.where(speed[1:] < speed[:-1])[0]+1] = accel[np.where(speed[1:] < speed[:-1])[0]+1]*-1\n",
    "    \n",
    "    # Energy Density\n",
    "    en_den = P / (speed + 1e-8)\n",
    "    \n",
    "    # Heating/Cooling\n",
    "    heating = np.zeros(X.shape)\n",
    "    heating[np.where(P[1:]>P[:-1])[0]+1] = 1\n",
    "    heating[np.where(P[1:]<P[:-1])[0]+1] = -1\n",
    "    \n",
    "    # Turning\n",
    "    turn_threshold = 0.01 # Tune me\n",
    "\n",
    "    turning = np.zeros(X.shape)\n",
    "    turn1 = np.zeros(X.shape)\n",
    "    turn2 = np.zeros(X.shape)\n",
    "\n",
    "    turn1[1:] = np.abs(vel_dir_x[1:]-vel_dir_x[:-1])\n",
    "    turn2[1:] = np.abs(vel_dir_y[1:]-vel_dir_y[:-1])\n",
    "    turning = np.any([(turn1 > turn_threshold), (turn2 > turn_threshold)], axis=0)\n",
    "    turning = turning.astype('int')\n",
    "    \n",
    "    # Residual Heat\n",
    "    R = 10 # parts are 10 mm x 10 mm\n",
    "    T = 5\n",
    "    max_iters = round(T/dt)\n",
    "\n",
    "    residual_heat = np.zeros(X.shape[0])\n",
    "    for i in trigger_indx:\n",
    "        d_ij = np.sqrt(np.square(X[i]-X[max(0, i-max_iters):i]) + np.square(Y[i]-Y[max(0, i-max_iters):i]))\n",
    "        t_ij = np.linspace((min(max_iters, i))*dt, dt, min(max_iters, i))\n",
    "        p_j = P[max(0, i-max_iters):i]\n",
    "        residual_heat[i] += np.sum(np.square((R-d_ij)/R) * ((T-t_ij)/T) * p_j)\n",
    "        \n",
    "    P_trig = P[trigger_indx]\n",
    "    speed_trig = speed[trigger_indx]\n",
    "    x_dir_trig = vel_dir_x[trigger_indx]\n",
    "    y_dir_trig = vel_dir_y[trigger_indx]\n",
    "    accel_trig = accel[trigger_indx]\n",
    "    en_den_trig = en_den[trigger_indx]\n",
    "    heating_trig = heating[trigger_indx]\n",
    "    turning_trig = turning[trigger_indx]\n",
    "    residual_heat_trig = residual_heat[trigger_indx]\n",
    "\n",
    "    pp = pd.DataFrame({'P': P_trig, 'speed': speed_trig, 'x_dir': x_dir_trig, 'y_dir': y_dir_trig, 'accel': accel_trig,\n",
    "                      'ed': en_den_trig, 'heating': heating_trig, 'turning': turning_trig, 'res_heat': residual_heat_trig})\n",
    "    \n",
    "    pp_dict[ii] = pp"
   ]
  },
  {
   "cell_type": "code",
   "execution_count": null,
   "id": "47a6f0b0",
   "metadata": {},
   "outputs": [],
   "source": []
  }
 ],
 "metadata": {
  "kernelspec": {
   "display_name": "meltpool_env",
   "language": "python",
   "name": "meltpool_env"
  },
  "language_info": {
   "codemirror_mode": {
    "name": "ipython",
    "version": 3
   },
   "file_extension": ".py",
   "mimetype": "text/x-python",
   "name": "python",
   "nbconvert_exporter": "python",
   "pygments_lexer": "ipython3",
   "version": "3.11.4"
  }
 },
 "nbformat": 4,
 "nbformat_minor": 5
}
